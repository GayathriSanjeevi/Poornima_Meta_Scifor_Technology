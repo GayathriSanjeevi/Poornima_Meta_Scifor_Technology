{
  "nbformat": 4,
  "nbformat_minor": 0,
  "metadata": {
    "colab": {
      "provenance": []
    },
    "kernelspec": {
      "name": "python3",
      "display_name": "Python 3"
    },
    "language_info": {
      "name": "python"
    }
  },
  "cells": [
    {
      "cell_type": "markdown",
      "source": [
        "**1. Lists/Tuples in Python**\n",
        "\n",
        "Lists --> ordered, mutable, indexed, duplicate elements allowed, can take data of any datatype, enclosed within square brackets\n",
        "\n",
        "Tuples --> ordered, immutable, indexed, duplicate elements allowed, can take data of any datatype, enclosed within brackets\n",
        "\n",
        "Tuples can be used where the data should not be changed once entered"
      ],
      "metadata": {
        "id": "02cKGGoVlfcy"
      }
    },
    {
      "cell_type": "code",
      "execution_count": 1,
      "metadata": {
        "colab": {
          "base_uri": "https://localhost:8080/"
        },
        "id": "sdJtkzd3lcAO",
        "outputId": "8e2e8bf0-dee4-4c7e-9c37-762676049b35"
      },
      "outputs": [
        {
          "output_type": "execute_result",
          "data": {
            "text/plain": [
              "2"
            ]
          },
          "metadata": {},
          "execution_count": 1
        }
      ],
      "source": [
        "list_1=[1,2,3.5,'hello']\n",
        "list_1[1]"
      ]
    },
    {
      "cell_type": "code",
      "source": [
        "list_1[1]='hi'\n",
        "list_1"
      ],
      "metadata": {
        "colab": {
          "base_uri": "https://localhost:8080/"
        },
        "id": "LdMpSy4UmSw8",
        "outputId": "eaa25173-c769-4764-fe59-b9eaecc094cc"
      },
      "execution_count": 2,
      "outputs": [
        {
          "output_type": "execute_result",
          "data": {
            "text/plain": [
              "[1, 'hi', 3.5, 'hello']"
            ]
          },
          "metadata": {},
          "execution_count": 2
        }
      ]
    },
    {
      "cell_type": "code",
      "source": [
        "tuple_1=(1,2,3.5,'hello')\n",
        "tuple_1[1]"
      ],
      "metadata": {
        "colab": {
          "base_uri": "https://localhost:8080/"
        },
        "id": "5PaLT8uomIGi",
        "outputId": "62534266-64ce-4309-bff6-2dcdcb798b38"
      },
      "execution_count": 3,
      "outputs": [
        {
          "output_type": "execute_result",
          "data": {
            "text/plain": [
              "2"
            ]
          },
          "metadata": {},
          "execution_count": 3
        }
      ]
    },
    {
      "cell_type": "code",
      "source": [
        "tuple_1[1]=('hi')"
      ],
      "metadata": {
        "colab": {
          "base_uri": "https://localhost:8080/",
          "height": 146
        },
        "id": "-hcCIyg-mZuP",
        "outputId": "81e1e06b-46f5-4077-b4de-be63857fa942"
      },
      "execution_count": 4,
      "outputs": [
        {
          "output_type": "error",
          "ename": "TypeError",
          "evalue": "'tuple' object does not support item assignment",
          "traceback": [
            "\u001b[0;31m---------------------------------------------------------------------------\u001b[0m",
            "\u001b[0;31mTypeError\u001b[0m                                 Traceback (most recent call last)",
            "\u001b[0;32m<ipython-input-4-e37d16655678>\u001b[0m in \u001b[0;36m<cell line: 1>\u001b[0;34m()\u001b[0m\n\u001b[0;32m----> 1\u001b[0;31m \u001b[0mtuple_1\u001b[0m\u001b[0;34m[\u001b[0m\u001b[0;36m1\u001b[0m\u001b[0;34m]\u001b[0m\u001b[0;34m=\u001b[0m\u001b[0;34m(\u001b[0m\u001b[0;34m'hi'\u001b[0m\u001b[0;34m)\u001b[0m\u001b[0;34m\u001b[0m\u001b[0;34m\u001b[0m\u001b[0m\n\u001b[0m",
            "\u001b[0;31mTypeError\u001b[0m: 'tuple' object does not support item assignment"
          ]
        }
      ]
    },
    {
      "cell_type": "markdown",
      "source": [
        "**Returns error as tuple is immutable**"
      ],
      "metadata": {
        "id": "nbO3nzWcmfrv"
      }
    },
    {
      "cell_type": "markdown",
      "source": [
        "**2. Write a function that takes a list of integers and returns a new list with only the even numbers.**\n"
      ],
      "metadata": {
        "id": "GuCic1x4moNp"
      }
    },
    {
      "cell_type": "code",
      "source": [
        "def even(*args):\n",
        "  even_list=[i for i in args if i % 2==0]\n",
        "  return even_list"
      ],
      "metadata": {
        "id": "gH0rFQvgmydG"
      },
      "execution_count": 94,
      "outputs": []
    },
    {
      "cell_type": "code",
      "source": [
        "even(1,2,3,4,5,6,7,8)"
      ],
      "metadata": {
        "colab": {
          "base_uri": "https://localhost:8080/"
        },
        "id": "SBEpaM3knNnu",
        "outputId": "f3b1eab6-39c6-4c01-8326-4adc222f5b25"
      },
      "execution_count": 95,
      "outputs": [
        {
          "output_type": "execute_result",
          "data": {
            "text/plain": [
              "[2, 4, 6, 8]"
            ]
          },
          "metadata": {},
          "execution_count": 95
        }
      ]
    },
    {
      "cell_type": "markdown",
      "source": [
        "**4.Given a dictionary where keys are student names and values are lists of their scores, write a function that returns the average score for each student.**\n"
      ],
      "metadata": {
        "id": "OCBqtgFmo9Bl"
      }
    },
    {
      "cell_type": "code",
      "source": [
        "dict_1={\"John\":[45,50,48, 89],\"Priya\":[45,80,90, 40]}\n",
        "dict_1"
      ],
      "metadata": {
        "colab": {
          "base_uri": "https://localhost:8080/"
        },
        "id": "---UVaZvteL-",
        "outputId": "8ffecd83-1a74-4201-be76-a391ea49992c"
      },
      "execution_count": 127,
      "outputs": [
        {
          "output_type": "execute_result",
          "data": {
            "text/plain": [
              "{'John': [45, 50, 48, 89], 'Priya': [45, 80, 90, 40]}"
            ]
          },
          "metadata": {},
          "execution_count": 127
        }
      ]
    },
    {
      "cell_type": "code",
      "source": [
        "def average(dict_1):\n",
        "  average=[]\n",
        "  for i in dict_1.values():\n",
        "    average.append(sum(i)/len(i))\n",
        "  print(\"Average Scores are\",dict_1.keys(), average)"
      ],
      "metadata": {
        "id": "-a3toLQiuefr"
      },
      "execution_count": 128,
      "outputs": []
    },
    {
      "cell_type": "code",
      "source": [
        "average(dict_1)"
      ],
      "metadata": {
        "colab": {
          "base_uri": "https://localhost:8080/"
        },
        "id": "uzlAK-9Fw_uZ",
        "outputId": "c143f430-38ec-4633-b0e0-28dd96ff89bc"
      },
      "execution_count": 129,
      "outputs": [
        {
          "output_type": "stream",
          "name": "stdout",
          "text": [
            "Average Scores are dict_keys(['John', 'Priya']) [58.0, 63.75]\n"
          ]
        }
      ]
    },
    {
      "cell_type": "markdown",
      "source": [
        "**5.What are args and kwargs in Python functions, and how are they used?**\n",
        "\n",
        "*args and **kwargs can be used when we are unsure about the variable length passed to a function\n",
        "\n",
        "args are normal arguments and kwargs represent keyword arguments\n"
      ],
      "metadata": {
        "id": "zLrHfBsvxStx"
      }
    },
    {
      "cell_type": "code",
      "source": [
        "def sum_func(*args):\n",
        "  return sum(args)\n",
        ""
      ],
      "metadata": {
        "id": "7NQqKBlgxwup"
      },
      "execution_count": 132,
      "outputs": []
    },
    {
      "cell_type": "code",
      "source": [
        "total=sum_func(1,2,3)\n",
        "print(\"Sum is\", total)"
      ],
      "metadata": {
        "colab": {
          "base_uri": "https://localhost:8080/"
        },
        "id": "BxgyccJjx48Z",
        "outputId": "41ee1ad5-e693-4f98-e673-1e9dd94aeb78"
      },
      "execution_count": 133,
      "outputs": [
        {
          "output_type": "stream",
          "name": "stdout",
          "text": [
            "Sum is 6\n"
          ]
        }
      ]
    },
    {
      "cell_type": "code",
      "source": [
        "total=sum_func(1,2,3,4,5)\n",
        "print(\"Sum is\", total)"
      ],
      "metadata": {
        "colab": {
          "base_uri": "https://localhost:8080/"
        },
        "id": "iNZnvx_oyJ6O",
        "outputId": "47e13b8f-dab9-4152-9414-3d1f088cd43c"
      },
      "execution_count": 134,
      "outputs": [
        {
          "output_type": "stream",
          "name": "stdout",
          "text": [
            "Sum is 15\n"
          ]
        }
      ]
    },
    {
      "cell_type": "code",
      "source": [
        "def concat(name, **kwargs):\n",
        "   result=\" \".join(kwargs.values())\n",
        "   return name+\" \"+result"
      ],
      "metadata": {
        "id": "FY1HGKslxuYd"
      },
      "execution_count": 143,
      "outputs": []
    },
    {
      "cell_type": "code",
      "source": [
        "final=concat(\"Priya\", first=\"Welcome\", second=\"to\", third= 'India')\n",
        "print(final)"
      ],
      "metadata": {
        "colab": {
          "base_uri": "https://localhost:8080/"
        },
        "id": "_fOHCBWbyhHW",
        "outputId": "90a8a6d8-ccd6-4735-d37a-6fdc780090b7"
      },
      "execution_count": 144,
      "outputs": [
        {
          "output_type": "stream",
          "name": "stdout",
          "text": [
            "Priya Welcome to India\n"
          ]
        }
      ]
    }
  ]
}