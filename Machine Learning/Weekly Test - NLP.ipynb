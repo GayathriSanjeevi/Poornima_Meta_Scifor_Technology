{
 "cells": [
  {
   "cell_type": "markdown",
   "id": "3aef6d92",
   "metadata": {},
   "source": [
    "## NLP Test"
   ]
  },
  {
   "cell_type": "markdown",
   "id": "6e8f33e0",
   "metadata": {},
   "source": [
    "### 1. Write a program of text processing "
   ]
  },
  {
   "cell_type": "code",
   "execution_count": 1,
   "id": "d0f78e51",
   "metadata": {},
   "outputs": [],
   "source": [
    "import nltk\n",
    "import string"
   ]
  },
  {
   "cell_type": "code",
   "execution_count": 3,
   "id": "2d4cf546",
   "metadata": {},
   "outputs": [
    {
     "data": {
      "text/plain": [
       "'Python is a popular programming language. It was created by Guido van Rossum, and released in 1991.'"
      ]
     },
     "execution_count": 3,
     "metadata": {},
     "output_type": "execute_result"
    }
   ],
   "source": [
    "text=\"Python is a popular programming language. It was created by Guido van Rossum, and released in 1991.\"\n",
    "text"
   ]
  },
  {
   "cell_type": "markdown",
   "id": "c2b60375",
   "metadata": {},
   "source": [
    "### 1.1 Removing Punctutations"
   ]
  },
  {
   "cell_type": "code",
   "execution_count": 4,
   "id": "9e78ae28",
   "metadata": {},
   "outputs": [
    {
     "data": {
      "text/plain": [
       "'!\"#$%&\\'()*+,-./:;<=>?@[\\\\]^_`{|}~'"
      ]
     },
     "execution_count": 4,
     "metadata": {},
     "output_type": "execute_result"
    }
   ],
   "source": [
    "string.punctuation"
   ]
  },
  {
   "cell_type": "code",
   "execution_count": 6,
   "id": "8deba694",
   "metadata": {},
   "outputs": [
    {
     "data": {
      "text/plain": [
       "'Python is a popular programming language It was created by Guido van Rossum and released in 1991'"
      ]
     },
     "execution_count": 6,
     "metadata": {},
     "output_type": "execute_result"
    }
   ],
   "source": [
    "text_nopunc=\"\".join(word for word in text if word not in string.punctuation)\n",
    "text_nopunc"
   ]
  },
  {
   "cell_type": "markdown",
   "id": "eb9a4b8a",
   "metadata": {},
   "source": [
    "### 1.2 Tokenisation"
   ]
  },
  {
   "cell_type": "code",
   "execution_count": 7,
   "id": "e8e35892",
   "metadata": {},
   "outputs": [
    {
     "data": {
      "text/plain": [
       "['Python is a popular programming language.',\n",
       " 'It was created by Guido van Rossum, and released in 1991.']"
      ]
     },
     "execution_count": 7,
     "metadata": {},
     "output_type": "execute_result"
    }
   ],
   "source": [
    "sent_tokens=nltk.sent_tokenize(text)\n",
    "sent_tokens #Sentence tokenisation"
   ]
  },
  {
   "cell_type": "code",
   "execution_count": 10,
   "id": "3f493708",
   "metadata": {},
   "outputs": [
    {
     "data": {
      "text/plain": [
       "['Python',\n",
       " 'is',\n",
       " 'a',\n",
       " 'popular',\n",
       " 'programming',\n",
       " 'language',\n",
       " 'It',\n",
       " 'was',\n",
       " 'created',\n",
       " 'by',\n",
       " 'Guido',\n",
       " 'van',\n",
       " 'Rossum',\n",
       " 'and',\n",
       " 'released',\n",
       " 'in',\n",
       " '1991']"
      ]
     },
     "execution_count": 10,
     "metadata": {},
     "output_type": "execute_result"
    }
   ],
   "source": [
    "word_tokens=nltk.word_tokenize(text_nopunc)\n",
    "word_tokens"
   ]
  },
  {
   "cell_type": "markdown",
   "id": "34e811e1",
   "metadata": {},
   "source": [
    "### 1.3 Removing Stopwords"
   ]
  },
  {
   "cell_type": "code",
   "execution_count": 14,
   "id": "a054376a",
   "metadata": {},
   "outputs": [
    {
     "data": {
      "text/plain": [
       "['i',\n",
       " 'me',\n",
       " 'my',\n",
       " 'myself',\n",
       " 'we',\n",
       " 'our',\n",
       " 'ours',\n",
       " 'ourselves',\n",
       " 'you',\n",
       " \"you're\",\n",
       " \"you've\",\n",
       " \"you'll\",\n",
       " \"you'd\",\n",
       " 'your',\n",
       " 'yours',\n",
       " 'yourself',\n",
       " 'yourselves',\n",
       " 'he',\n",
       " 'him',\n",
       " 'his',\n",
       " 'himself',\n",
       " 'she',\n",
       " \"she's\",\n",
       " 'her',\n",
       " 'hers',\n",
       " 'herself',\n",
       " 'it',\n",
       " \"it's\",\n",
       " 'its',\n",
       " 'itself',\n",
       " 'they',\n",
       " 'them',\n",
       " 'their',\n",
       " 'theirs',\n",
       " 'themselves',\n",
       " 'what',\n",
       " 'which',\n",
       " 'who',\n",
       " 'whom',\n",
       " 'this',\n",
       " 'that',\n",
       " \"that'll\",\n",
       " 'these',\n",
       " 'those',\n",
       " 'am',\n",
       " 'is',\n",
       " 'are',\n",
       " 'was',\n",
       " 'were',\n",
       " 'be',\n",
       " 'been',\n",
       " 'being',\n",
       " 'have',\n",
       " 'has',\n",
       " 'had',\n",
       " 'having',\n",
       " 'do',\n",
       " 'does',\n",
       " 'did',\n",
       " 'doing',\n",
       " 'a',\n",
       " 'an',\n",
       " 'the',\n",
       " 'and',\n",
       " 'but',\n",
       " 'if',\n",
       " 'or',\n",
       " 'because',\n",
       " 'as',\n",
       " 'until',\n",
       " 'while',\n",
       " 'of',\n",
       " 'at',\n",
       " 'by',\n",
       " 'for',\n",
       " 'with',\n",
       " 'about',\n",
       " 'against',\n",
       " 'between',\n",
       " 'into',\n",
       " 'through',\n",
       " 'during',\n",
       " 'before',\n",
       " 'after',\n",
       " 'above',\n",
       " 'below',\n",
       " 'to',\n",
       " 'from',\n",
       " 'up',\n",
       " 'down',\n",
       " 'in',\n",
       " 'out',\n",
       " 'on',\n",
       " 'off',\n",
       " 'over',\n",
       " 'under',\n",
       " 'again',\n",
       " 'further',\n",
       " 'then',\n",
       " 'once',\n",
       " 'here',\n",
       " 'there',\n",
       " 'when',\n",
       " 'where',\n",
       " 'why',\n",
       " 'how',\n",
       " 'all',\n",
       " 'any',\n",
       " 'both',\n",
       " 'each',\n",
       " 'few',\n",
       " 'more',\n",
       " 'most',\n",
       " 'other',\n",
       " 'some',\n",
       " 'such',\n",
       " 'no',\n",
       " 'nor',\n",
       " 'not',\n",
       " 'only',\n",
       " 'own',\n",
       " 'same',\n",
       " 'so',\n",
       " 'than',\n",
       " 'too',\n",
       " 'very',\n",
       " 's',\n",
       " 't',\n",
       " 'can',\n",
       " 'will',\n",
       " 'just',\n",
       " 'don',\n",
       " \"don't\",\n",
       " 'should',\n",
       " \"should've\",\n",
       " 'now',\n",
       " 'd',\n",
       " 'll',\n",
       " 'm',\n",
       " 'o',\n",
       " 're',\n",
       " 've',\n",
       " 'y',\n",
       " 'ain',\n",
       " 'aren',\n",
       " \"aren't\",\n",
       " 'couldn',\n",
       " \"couldn't\",\n",
       " 'didn',\n",
       " \"didn't\",\n",
       " 'doesn',\n",
       " \"doesn't\",\n",
       " 'hadn',\n",
       " \"hadn't\",\n",
       " 'hasn',\n",
       " \"hasn't\",\n",
       " 'haven',\n",
       " \"haven't\",\n",
       " 'isn',\n",
       " \"isn't\",\n",
       " 'ma',\n",
       " 'mightn',\n",
       " \"mightn't\",\n",
       " 'mustn',\n",
       " \"mustn't\",\n",
       " 'needn',\n",
       " \"needn't\",\n",
       " 'shan',\n",
       " \"shan't\",\n",
       " 'shouldn',\n",
       " \"shouldn't\",\n",
       " 'wasn',\n",
       " \"wasn't\",\n",
       " 'weren',\n",
       " \"weren't\",\n",
       " 'won',\n",
       " \"won't\",\n",
       " 'wouldn',\n",
       " \"wouldn't\"]"
      ]
     },
     "execution_count": 14,
     "metadata": {},
     "output_type": "execute_result"
    }
   ],
   "source": [
    "stopword=nltk.corpus.stopwords.words(\"English\")\n",
    "stopword"
   ]
  },
  {
   "cell_type": "code",
   "execution_count": 15,
   "id": "aa6704b3",
   "metadata": {},
   "outputs": [
    {
     "data": {
      "text/plain": [
       "['Python',\n",
       " 'popular',\n",
       " 'programming',\n",
       " 'language',\n",
       " 'It',\n",
       " 'created',\n",
       " 'Guido',\n",
       " 'van',\n",
       " 'Rossum',\n",
       " 'released',\n",
       " '1991']"
      ]
     },
     "execution_count": 15,
     "metadata": {},
     "output_type": "execute_result"
    }
   ],
   "source": [
    "text_nostopwords=[word for word in word_tokens if word not in stopword]\n",
    "text_nostopwords"
   ]
  },
  {
   "cell_type": "markdown",
   "id": "f9aacfdc",
   "metadata": {},
   "source": [
    "### 1.4 POS tagging"
   ]
  },
  {
   "cell_type": "code",
   "execution_count": 16,
   "id": "30a210e8",
   "metadata": {},
   "outputs": [
    {
     "data": {
      "text/plain": [
       "[('Python', 'NNP'),\n",
       " ('popular', 'JJ'),\n",
       " ('programming', 'NN'),\n",
       " ('language', 'NN'),\n",
       " ('It', 'PRP'),\n",
       " ('created', 'VBD'),\n",
       " ('Guido', 'NNP'),\n",
       " ('van', 'NN'),\n",
       " ('Rossum', 'NNP'),\n",
       " ('released', 'VBD'),\n",
       " ('1991', 'CD')]"
      ]
     },
     "execution_count": 16,
     "metadata": {},
     "output_type": "execute_result"
    }
   ],
   "source": [
    "pos_tag=nltk.pos_tag(text_nostopwords)\n",
    "pos_tag"
   ]
  },
  {
   "cell_type": "markdown",
   "id": "7c7c5daf",
   "metadata": {},
   "source": [
    "### 1.5 Stemming and Lemmatisation"
   ]
  },
  {
   "cell_type": "code",
   "execution_count": 22,
   "id": "f47572d8",
   "metadata": {},
   "outputs": [
    {
     "name": "stdout",
     "output_type": "stream",
     "text": [
      "['Python', 'popular', 'programming', 'language', 'It', 'created', 'Guido', 'van', 'Rossum', 'released', '1991'] ['python', 'popular', 'program', 'languag', 'it', 'creat', 'guido', 'van', 'rossum', 'releas', '1991']\n"
     ]
    }
   ],
   "source": [
    "ps=nltk.PorterStemmer() #Stemming\n",
    "stemmed_text=[ps.stem(word) for word in text_nostopwords]\n",
    "print(text_nostopwords,stemmed_text)"
   ]
  },
  {
   "cell_type": "code",
   "execution_count": 26,
   "id": "110d7348",
   "metadata": {},
   "outputs": [
    {
     "name": "stdout",
     "output_type": "stream",
     "text": [
      "['Python', 'popular', 'programming', 'language', 'It', 'created', 'Guido', 'van', 'Rossum', 'released', '1991'] ['Python', 'popular', 'programming', 'language', 'It', 'created', 'Guido', 'van', 'Rossum', 'released', '1991']\n"
     ]
    }
   ],
   "source": [
    "lemmatizer=nltk.WordNetLemmatizer() #Lemmatizer\n",
    "lemmatize_text=[lemmatizer.lemmatize(word) for word in text_nostopwords]\n",
    "print(text_nostopwords, lemmatize_text)"
   ]
  },
  {
   "cell_type": "markdown",
   "id": "727a4349",
   "metadata": {},
   "source": [
    "## 2. Write a program to implement NLP based upon spacy"
   ]
  },
  {
   "cell_type": "code",
   "execution_count": 31,
   "id": "b47c8abe",
   "metadata": {},
   "outputs": [],
   "source": [
    "import spacy"
   ]
  },
  {
   "cell_type": "code",
   "execution_count": 32,
   "id": "753823bd",
   "metadata": {},
   "outputs": [],
   "source": [
    "nlp=spacy.load('en_core_web_sm')"
   ]
  },
  {
   "cell_type": "code",
   "execution_count": 33,
   "id": "c5980f1d",
   "metadata": {},
   "outputs": [
    {
     "data": {
      "text/plain": [
       "Python is a popular programming language. It was created by Guido van Rossum, and released in 1991."
      ]
     },
     "execution_count": 33,
     "metadata": {},
     "output_type": "execute_result"
    }
   ],
   "source": [
    "text_nlp=nlp(text)\n",
    "text_nlp"
   ]
  },
  {
   "cell_type": "code",
   "execution_count": 37,
   "id": "b40fe2e7",
   "metadata": {},
   "outputs": [
    {
     "name": "stdout",
     "output_type": "stream",
     "text": [
      "Python PROPN Python False False\n",
      "is AUX be True False\n",
      "a DET a True False\n",
      "popular ADJ popular False False\n",
      "programming NOUN programming False False\n",
      "language NOUN language False False\n",
      ". PUNCT . False True\n",
      "It PRON it True False\n",
      "was AUX be True False\n",
      "created VERB create False False\n",
      "by ADP by True False\n",
      "Guido PROPN Guido False False\n",
      "van PROPN van False False\n",
      "Rossum PROPN Rossum False False\n",
      ", PUNCT , False True\n",
      "and CCONJ and True False\n",
      "released VERB release False False\n",
      "in ADP in True False\n",
      "1991 NUM 1991 False False\n",
      ". PUNCT . False True\n"
     ]
    }
   ],
   "source": [
    "for token in text_nlp:\n",
    "    print(token.text, token.pos_,token.lemma_, token.is_stop, token.is_punct)"
   ]
  },
  {
   "cell_type": "code",
   "execution_count": 38,
   "id": "f1e3652f",
   "metadata": {},
   "outputs": [
    {
     "name": "stdout",
     "output_type": "stream",
     "text": [
      "[('Guido van Rossum', 'PERSON'), ('1991', 'DATE')]\n"
     ]
    }
   ],
   "source": [
    "entities1=[(ent.text,ent.label_) for ent in text_nlp.ents]\n",
    "print(entities1)"
   ]
  },
  {
   "cell_type": "markdown",
   "id": "1fbd3dce",
   "metadata": {},
   "source": [
    "### 3. Statistics - difference between Descriptive and Inferential statistics\n"
   ]
  },
  {
   "cell_type": "markdown",
   "id": "e180aa11",
   "metadata": {},
   "source": [
    "**Descriptive statistics**\n",
    "1. Summarises and describes the various features of a dataset\n",
    "2. Describes the dataset without any inferences\n",
    "3. It can be given by - Measures of central tendency - mean ,median, mode\n",
    "4. Measure of variability - Range, Interquartile range, Variance standard deviation , maximum, minimum value\n",
    "5. Measure of distribution - kurtosis, skewness\n",
    "6. Graph visualisation - bar plot, histogram, box plot, pie plot\n",
    "7. In python dataframe, df.describe() - gives info about descriptive statistics of the given dataset\n",
    "\n",
    "\n",
    "**Inferential Statistics**\n",
    "1. make predictions/generalisations of a population based on a sample data\n",
    "2. Thus can make inferences about the dataset \n",
    "3. It includes methods like hypothesis testing, confidence intervals and regression analysis\n",
    "4. Hypothesis testing \n",
    "Null Hypothesis --> making a statement about a population based on sample\n",
    "\n",
    "Alternate hypothesis --> evidence to oppose null hypothesis\n",
    "\n",
    "when the null hypothesis is put to test and if p value is <0.05 , null hypothesis is rejected\n",
    "\n",
    "example: \n",
    "NH : A feature in a dataset doesnot contributes to its output. say, spending on newspaper doesnot increases sales.\n",
    "\n",
    "AH: spending on newspaper increases sales.\n",
    "\n",
    "When tested, it coefficient is very low, NH accepted else NH rejected and AH accepted\n",
    "\n",
    "5. Confidence Intervals\n",
    "Based on sample. inferring about the population data within a  confidence interval.\n",
    "\n",
    "\n",
    "\n",
    "\n",
    "\n"
   ]
  },
  {
   "cell_type": "code",
   "execution_count": null,
   "id": "02089b57",
   "metadata": {},
   "outputs": [],
   "source": []
  }
 ],
 "metadata": {
  "kernelspec": {
   "display_name": "Python 3 (ipykernel)",
   "language": "python",
   "name": "python3"
  },
  "language_info": {
   "codemirror_mode": {
    "name": "ipython",
    "version": 3
   },
   "file_extension": ".py",
   "mimetype": "text/x-python",
   "name": "python",
   "nbconvert_exporter": "python",
   "pygments_lexer": "ipython3",
   "version": "3.11.4"
  }
 },
 "nbformat": 4,
 "nbformat_minor": 5
}
