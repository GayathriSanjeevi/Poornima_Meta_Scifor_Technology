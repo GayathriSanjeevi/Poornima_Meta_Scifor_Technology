{
  "nbformat": 4,
  "nbformat_minor": 0,
  "metadata": {
    "colab": {
      "provenance": []
    },
    "kernelspec": {
      "name": "python3",
      "display_name": "Python 3"
    },
    "language_info": {
      "name": "python"
    }
  },
  "cells": [
    {
      "cell_type": "markdown",
      "source": [
        "1. Python data types\n",
        "    1. integers - positve, zero and negative whole numbers\n",
        "    example:-5,0,1,2 etc\n",
        "    2. float - decimal numbers\n",
        "    example: 1.1, 2.1,6.0\n",
        "    3. string -\"Hi, Welcome\"\n",
        "    \n",
        "Other sequence datatypes include:\n",
        "\n",
        "    1. List - ordered, mutable, contains element of any datatype.\n",
        "    Enclosed in square brackets\n",
        "    Eg: [1,2,3,\"hello\",7.6]\n",
        "    2. Tuples - ordered, immutable, contains element of any datatype.\n",
        "    Enclosed by braces as shown below\n",
        "    Eg: (1,2,3,\"hello\",7.6)\n",
        "    3. Sets - Unordered, no duplicate elements allowed\n",
        "    Eg:{1,2,3.5,\"hello\"}\n",
        "    4. Dictionaries - will be in key value pairs\n",
        "\n",
        "    Eg:\n",
        "    student_database={\"name\":\"ABC\",\"Dept\": \"EEE\"}\n",
        "\n",
        "    here name and Dept - key\n",
        "    ABC and EEE values\n",
        "\n",
        "    \n"
      ],
      "metadata": {
        "id": "lNOFlSwYNi5D"
      }
    },
    {
      "cell_type": "code",
      "execution_count": 1,
      "metadata": {
        "colab": {
          "base_uri": "https://localhost:8080/"
        },
        "id": "QYJwfeZ4Najl",
        "outputId": "54fd1ca5-050a-4024-97d9-234b5479c254"
      },
      "outputs": [
        {
          "output_type": "execute_result",
          "data": {
            "text/plain": [
              "int"
            ]
          },
          "metadata": {},
          "execution_count": 1
        }
      ],
      "source": [
        "a=2\n",
        "type(a) #integer"
      ]
    },
    {
      "cell_type": "code",
      "source": [
        "b=3.5\n",
        "type(b)"
      ],
      "metadata": {
        "colab": {
          "base_uri": "https://localhost:8080/"
        },
        "id": "Vhen02XOPF8S",
        "outputId": "c881b318-4d8c-4f1b-816b-6d26fb2a72b3"
      },
      "execution_count": 2,
      "outputs": [
        {
          "output_type": "execute_result",
          "data": {
            "text/plain": [
              "float"
            ]
          },
          "metadata": {},
          "execution_count": 2
        }
      ]
    },
    {
      "cell_type": "code",
      "source": [
        "c=\"hello\"\n",
        "type(c)"
      ],
      "metadata": {
        "colab": {
          "base_uri": "https://localhost:8080/"
        },
        "id": "2-mgOMBIPGJV",
        "outputId": "f7f6a8ed-9a06-4f1c-ee98-de7aa5a7c79c"
      },
      "execution_count": 3,
      "outputs": [
        {
          "output_type": "execute_result",
          "data": {
            "text/plain": [
              "str"
            ]
          },
          "metadata": {},
          "execution_count": 3
        }
      ]
    },
    {
      "cell_type": "markdown",
      "source": [
        "2. List, Tuple and Sets\n",
        "\n",
        "  1. List - ordered, mutable, contains element of any datatype, allows element to be duplicated\n",
        "Enclosed in square brackets\n",
        "Eg: [1,2,3,4.5,\"hello\"]\n",
        "\n",
        "  2. Tuples - ordered, immutable, contains element of any datatype.allows element to be duplicated\n",
        "Enclosed by braces as shown below\n",
        "Eg: (1,2,3,\"hello\",7.6)\n",
        "  3. Sets - Unordered, no duplicate elements allowed\n",
        "Eg:{1,2,3.5,\"hello\"}"
      ],
      "metadata": {
        "id": "RuZLygTVPiTh"
      }
    },
    {
      "cell_type": "code",
      "source": [
        "list_1=[1,2,3,4.5,\"hello\",3]  #duplicate elements allowed and ordered\n",
        "for i in range(len(list_1)):\n",
        "  print(list_1[i])"
      ],
      "metadata": {
        "colab": {
          "base_uri": "https://localhost:8080/"
        },
        "id": "_cHIxwlkPGMS",
        "outputId": "1e40c4b1-f544-404c-ab6a-43a0ddad12bf"
      },
      "execution_count": 7,
      "outputs": [
        {
          "output_type": "stream",
          "name": "stdout",
          "text": [
            "1\n",
            "2\n",
            "3\n",
            "4.5\n",
            "hello\n",
            "3\n"
          ]
        }
      ]
    },
    {
      "cell_type": "code",
      "source": [
        "list_1[3]=\"hi\" #mutability\n",
        "list_1"
      ],
      "metadata": {
        "colab": {
          "base_uri": "https://localhost:8080/"
        },
        "id": "FTuW1rLePGPo",
        "outputId": "9e6cb542-3c5b-477c-9463-0dc3f9731562"
      },
      "execution_count": 8,
      "outputs": [
        {
          "output_type": "execute_result",
          "data": {
            "text/plain": [
              "[1, 2, 3, 'hi', 'hello', 3]"
            ]
          },
          "metadata": {},
          "execution_count": 8
        }
      ]
    },
    {
      "cell_type": "markdown",
      "source": [
        "element at index 3 changed to \"hi\" - hence mutable"
      ],
      "metadata": {
        "id": "N4Zb4lbOQDmq"
      }
    },
    {
      "cell_type": "code",
      "source": [
        "tuple_1=(1,2,3,\"hello\",7.6,4) #duplicates and ordered\n",
        "for i in range(4):\n",
        "  print(tuple_1[i])"
      ],
      "metadata": {
        "colab": {
          "base_uri": "https://localhost:8080/"
        },
        "id": "w4Wu-CWTQIs2",
        "outputId": "08a22d16-ba47-4a1c-e57b-0310fc6ad3b1"
      },
      "execution_count": 9,
      "outputs": [
        {
          "output_type": "stream",
          "name": "stdout",
          "text": [
            "1\n",
            "2\n",
            "3\n",
            "hello\n"
          ]
        }
      ]
    },
    {
      "cell_type": "code",
      "source": [
        "tuple_1[3]=\"hi\" #immutable -- throws error"
      ],
      "metadata": {
        "colab": {
          "base_uri": "https://localhost:8080/",
          "height": 146
        },
        "id": "3p-hShoQQZGR",
        "outputId": "d605c5ce-9024-4f0e-b673-417c26b912e7"
      },
      "execution_count": 10,
      "outputs": [
        {
          "output_type": "error",
          "ename": "TypeError",
          "evalue": "'tuple' object does not support item assignment",
          "traceback": [
            "\u001b[0;31m---------------------------------------------------------------------------\u001b[0m",
            "\u001b[0;31mTypeError\u001b[0m                                 Traceback (most recent call last)",
            "\u001b[0;32m<ipython-input-10-8035f862354e>\u001b[0m in \u001b[0;36m<cell line: 1>\u001b[0;34m()\u001b[0m\n\u001b[0;32m----> 1\u001b[0;31m \u001b[0mtuple_1\u001b[0m\u001b[0;34m[\u001b[0m\u001b[0;36m3\u001b[0m\u001b[0;34m]\u001b[0m\u001b[0;34m=\u001b[0m\u001b[0;34m\"hi\"\u001b[0m \u001b[0;31m#immutable -- throws error\u001b[0m\u001b[0;34m\u001b[0m\u001b[0;34m\u001b[0m\u001b[0m\n\u001b[0m",
            "\u001b[0;31mTypeError\u001b[0m: 'tuple' object does not support item assignment"
          ]
        }
      ]
    },
    {
      "cell_type": "code",
      "source": [
        "list_1"
      ],
      "metadata": {
        "colab": {
          "base_uri": "https://localhost:8080/"
        },
        "id": "aoN6PIDdQgV8",
        "outputId": "3f34fadd-2753-456e-8a1d-a5c4aec54858"
      },
      "execution_count": 11,
      "outputs": [
        {
          "output_type": "execute_result",
          "data": {
            "text/plain": [
              "[1, 2, 3, 'hi', 'hello', 3]"
            ]
          },
          "metadata": {},
          "execution_count": 11
        }
      ]
    },
    {
      "cell_type": "markdown",
      "source": [
        "If I convert this list to set can see, duplicate elemnts are present only one in the set"
      ],
      "metadata": {
        "id": "Q5ZKJ9lBQlyG"
      }
    },
    {
      "cell_type": "code",
      "source": [
        "set_1=set(list_1) # only unique elements present\n",
        "set_1"
      ],
      "metadata": {
        "colab": {
          "base_uri": "https://localhost:8080/"
        },
        "id": "MnQuETa0Qkml",
        "outputId": "c4849c13-9e0f-468b-e9f4-4e79675c3157"
      },
      "execution_count": 12,
      "outputs": [
        {
          "output_type": "execute_result",
          "data": {
            "text/plain": [
              "{1, 2, 3, 'hello', 'hi'}"
            ]
          },
          "metadata": {},
          "execution_count": 12
        }
      ]
    },
    {
      "cell_type": "markdown",
      "source": [
        "3 is removed"
      ],
      "metadata": {
        "id": "gY2X-GYjQ1y9"
      }
    },
    {
      "cell_type": "code",
      "source": [
        "set_1[0] #throws error as it is unordered and cannot be accessed using index"
      ],
      "metadata": {
        "colab": {
          "base_uri": "https://localhost:8080/",
          "height": 146
        },
        "id": "ygpuTmqvQ3C2",
        "outputId": "829f8c1b-413a-48a9-9d43-c9f598663a51"
      },
      "execution_count": 13,
      "outputs": [
        {
          "output_type": "error",
          "ename": "TypeError",
          "evalue": "'set' object is not subscriptable",
          "traceback": [
            "\u001b[0;31m---------------------------------------------------------------------------\u001b[0m",
            "\u001b[0;31mTypeError\u001b[0m                                 Traceback (most recent call last)",
            "\u001b[0;32m<ipython-input-13-a26ed39fc722>\u001b[0m in \u001b[0;36m<cell line: 1>\u001b[0;34m()\u001b[0m\n\u001b[0;32m----> 1\u001b[0;31m \u001b[0mset_1\u001b[0m\u001b[0;34m[\u001b[0m\u001b[0;36m0\u001b[0m\u001b[0;34m]\u001b[0m\u001b[0;34m\u001b[0m\u001b[0;34m\u001b[0m\u001b[0m\n\u001b[0m",
            "\u001b[0;31mTypeError\u001b[0m: 'set' object is not subscriptable"
          ]
        }
      ]
    },
    {
      "cell_type": "markdown",
      "source": [
        "3. Handling Exceptions in Python\n",
        "\n",
        "Some exceptions may happen in our program like a number divided by zero (that throws an error) or as we tried to override an element in tuple etc. to handle such situations, try and except block is used for handling such exceptions.\n",
        "\n",
        "The block of code where we expect an error is written in try block. If no error, code in try block will be executed.\n",
        "\n",
        "If error is encountered, code in except block will be executed"
      ],
      "metadata": {
        "id": "b4v4XqvCRCDw"
      }
    },
    {
      "cell_type": "code",
      "source": [
        "#to check a number is not divisible by zero\n",
        "a=int(input(\"enter a number:\"))\n",
        "try:\n",
        "  b=50/a\n",
        "  print(b)\n",
        "\n",
        "except:\n",
        "  print('Zero Division Error')\n",
        "\n",
        "else:\n",
        "  print('Done')  #once error is not encountered / exception not found, else part is exceuted after try block"
      ],
      "metadata": {
        "colab": {
          "base_uri": "https://localhost:8080/"
        },
        "id": "46MKMKAtRAKq",
        "outputId": "e194e7c0-60ac-4d83-dd71-7f0674044e36"
      },
      "execution_count": 67,
      "outputs": [
        {
          "output_type": "stream",
          "name": "stdout",
          "text": [
            "enter a number:0\n",
            "Zero Division Error\n"
          ]
        }
      ]
    },
    {
      "cell_type": "markdown",
      "source": [
        "5. Lambda Functions - small anonymous functions used for a specific purpose - can be used inline"
      ],
      "metadata": {
        "id": "G7neZSQ6SSuT"
      }
    },
    {
      "cell_type": "code",
      "source": [
        "add=lambda x: x+x\n",
        "add(5)"
      ],
      "metadata": {
        "colab": {
          "base_uri": "https://localhost:8080/"
        },
        "id": "n-qAxlvqRfZI",
        "outputId": "dc7933cf-53f3-44a3-cfc2-20b32bf5ccbe"
      },
      "execution_count": 18,
      "outputs": [
        {
          "output_type": "execute_result",
          "data": {
            "text/plain": [
              "10"
            ]
          },
          "metadata": {},
          "execution_count": 18
        }
      ]
    },
    {
      "cell_type": "markdown",
      "source": [
        "7. Working with files in python\n",
        "\n",
        "> open --> used to open a file in python, can speciy whether it is read only or write allowed using \"r\"/ \"w\" respectively\n",
        "2. read() --> to read the files\n",
        "3. write() - to modify/ write something into the  file\n",
        "\n",
        "example: file=open(filename, \"r\") # open the file - read only\n",
        "\n",
        "\n"
      ],
      "metadata": {
        "id": "d2joCr6YStya"
      }
    },
    {
      "cell_type": "markdown",
      "source": [
        "### OOP"
      ],
      "metadata": {
        "id": "kS5UxCxQUMAs"
      }
    },
    {
      "cell_type": "markdown",
      "source": [
        "Q1. OOP - Object Oriented Programming. Everything in Python is an object. Some basic Principles of OOPS include:\n",
        "1. Encapsulation: binds/wraps all the data and method together inside a class. it is used to protect the data/ attribute from unauthorised use from outside the class.\n",
        "\n",
        "\n",
        "2. Abstraction - used to hide information\n",
        "\n",
        "3. Inheritance - Assume a student is present. he belongs to college ABC with code 01 and Department XYZ with ID no:05\n",
        "\n",
        "The student belongs to college ABC  as well as the department thus inherits all the characters of the class College as well as exhibits its own class department Character.\n",
        "\n",
        "Here we can tell the parent class is ABC and Child class is Department XYZ\n",
        "\n",
        "This is called inheritance anf there are many types - multiple, multilevel, single level etc.\n",
        "\n",
        "4. polymorphism - same method exhibits different characters when called by different objects\n",
        "\n"
      ],
      "metadata": {
        "id": "8riEVqhIUW72"
      }
    },
    {
      "cell_type": "markdown",
      "source": [
        "Q2. Class and Objects\n",
        "\n",
        "Class: blueprint or prototype of objects belonging to that class\n",
        "\n",
        "Objects: instances of class"
      ],
      "metadata": {
        "id": "gyI21sgjWTT8"
      }
    },
    {
      "cell_type": "markdown",
      "source": [
        "Q3. Creation of Class in Python"
      ],
      "metadata": {
        "id": "dAqQnEUeXn_t"
      }
    },
    {
      "cell_type": "code",
      "source": [
        "class College():  #creation of class using class keyword\n",
        "\n",
        "  def display(self):\n",
        "    print(\"Welcome\")  #defining a method inside the class\n",
        "\n",
        "obj1=College() #creating an object for the class - say obj1\n",
        "\n",
        "obj1.display()  # calling the method indide the class with the object craeted\n"
      ],
      "metadata": {
        "colab": {
          "base_uri": "https://localhost:8080/"
        },
        "id": "OG7NxeNGXwpV",
        "outputId": "9ec1b194-94b2-48fd-f21f-4e8a318e113f"
      },
      "execution_count": 30,
      "outputs": [
        {
          "output_type": "stream",
          "name": "stdout",
          "text": [
            "Welcome\n"
          ]
        }
      ]
    },
    {
      "cell_type": "markdown",
      "source": [
        "Q4:Instance and Class variables\n",
        " Class variables : common for all the objects belonging to that class\n",
        " Instance variables: varies fro object to object"
      ],
      "metadata": {
        "id": "p1zkL1NlnsXp"
      }
    },
    {
      "cell_type": "code",
      "source": [
        "class College():  # Parent class\n",
        "    college_name=\"ABC\" #class variable coomn to all object\n",
        "\n",
        "    def __init__(self, stu_name, dept):\n",
        "      self.student_name = stu_name #instance variable\n",
        "      self.department=dept\n",
        "\n",
        "student=College(\"Hari\",\"XYZ\")\n",
        "\n",
        "print(student.college_name)\n",
        "print(student.student_name)\n",
        "print(student.department)"
      ],
      "metadata": {
        "colab": {
          "base_uri": "https://localhost:8080/"
        },
        "id": "9IrhrqNXnroU",
        "outputId": "af73481d-7e3d-44ef-ae83-0f42edd2b6c6"
      },
      "execution_count": 87,
      "outputs": [
        {
          "output_type": "stream",
          "name": "stdout",
          "text": [
            "ABC\n",
            "Hari\n",
            "XYZ\n"
          ]
        }
      ]
    },
    {
      "cell_type": "markdown",
      "source": [
        "Q5. Purpose of __init__ method\n",
        "\n",
        " __init__ - is known as constructor class- whenever an object is created for a particular class, memeory will be automatically allocated for the attributes of that class\n",
        "#    "
      ],
      "metadata": {
        "id": "rjY_yyQGXxki"
      }
    },
    {
      "cell_type": "code",
      "source": [
        "class College(): #Class college is created, blueprint\n",
        "\n",
        "  def __init__(self, name,dept):\n",
        "    self.student_name=name\n",
        "    self.department=dept     # name and dept -- attributes\n",
        "\n",
        "#creating an object for class college\n",
        "student_1=College(\"Poornima\", \"EEE\") #creates an object student_1 of class college with name Poornima and dept EEE\n",
        "\n",
        "#can be displayed as below\n",
        "\n",
        "print(student_1.student_name)\n",
        "print(student_1.department)\n",
        "\n"
      ],
      "metadata": {
        "colab": {
          "base_uri": "https://localhost:8080/"
        },
        "id": "8Ocpixa8UWA7",
        "outputId": "9e82a932-9837-4ffc-f6dc-296c8873140b"
      },
      "execution_count": 21,
      "outputs": [
        {
          "output_type": "stream",
          "name": "stdout",
          "text": [
            "Poornima\n",
            "EEE\n"
          ]
        }
      ]
    },
    {
      "cell_type": "markdown",
      "source": [
        "Q7. Inheritance\n",
        "\n",
        "Assume a student is present. he belongs to college ABC with code 01 and Department XYZ with ID no:05\n",
        "\n",
        "The student belongs to college ABC  as well as the department thus inherits all the characters of the class College as well as exhibits its own class department Character.\n",
        "\n",
        "Here we can tell the parent class is ABC and Child class is Department XYZ\n",
        "\n",
        "This is called inheritance anf there are many types - multiple, multilevel, single level etc."
      ],
      "metadata": {
        "id": "OAhHeoRoZH80"
      }
    },
    {
      "cell_type": "code",
      "source": [
        "class College():  # Parent class\n",
        "    college_name=\"ABC\"\n",
        "\n",
        "class dept(College): # child class\n",
        "\n",
        "    def __init__(self, stu_name, dept):\n",
        "      self.student_name = stu_name\n",
        "      self.department=dept\n",
        "\n",
        "    def display_stu(self):\n",
        "        print(\"Student name is\", self.student_name)\n",
        "        print(\"Student department is:\", self.department)\n",
        "\n",
        "\n",
        "student=dept(\"Hari\", \"XYZ\")\n",
        "\n",
        "\n",
        "print(\"College name is:\",student.college_name) #inherited from parent class\n",
        "\n",
        "student.display_stu() #own class\n",
        "\n",
        "#this is an example of single level inheritance where the child class inherits from one parent class"
      ],
      "metadata": {
        "colab": {
          "base_uri": "https://localhost:8080/"
        },
        "id": "Pquq6hA6SxHr",
        "outputId": "61e74076-a630-49f4-af78-9f075c320368"
      },
      "execution_count": 85,
      "outputs": [
        {
          "output_type": "stream",
          "name": "stdout",
          "text": [
            "college name is: ABC\n",
            "Student name is Hari\n",
            "Student department is: XYZ\n"
          ]
        }
      ]
    },
    {
      "cell_type": "markdown",
      "source": [
        "Q8. Method overriding\n",
        "\n",
        "same method name used in different classes exhibit different behaviour"
      ],
      "metadata": {
        "id": "i58aP2AFc6hj"
      }
    },
    {
      "cell_type": "code",
      "source": [
        "class College():  # Class1\n",
        "\n",
        "    def display(self):\n",
        "      print(\"College name is ABC\")\n",
        "\n",
        "class Department(): #class 2\n",
        "\n",
        "    def display(self):\n",
        "      print(\"Department name is XYZ\")\n",
        "\n",
        "class student(): #class 3\n",
        "\n",
        "    def display(self):\n",
        "      print(\"Student name is Hari\")\n",
        "\n",
        "def print_details(entity): #print_details is used for method overriding of method display\n",
        "  entity.display()\n",
        "\n",
        "college=College()\n",
        "dept=Department()\n",
        "stu=student() #creating objects for various classes\n",
        "\n",
        "print_details(college)\n",
        "\n",
        "print_details(dept)\n",
        "\n",
        "print_details(stu)\n",
        "\n"
      ],
      "metadata": {
        "colab": {
          "base_uri": "https://localhost:8080/"
        },
        "id": "bqbtZO_XXlOq",
        "outputId": "33808401-df5b-4a7b-dd34-4ae6af2a3520"
      },
      "execution_count": 47,
      "outputs": [
        {
          "output_type": "stream",
          "name": "stdout",
          "text": [
            "College name is ABC\n",
            "Department name is XYZ\n",
            "Student name is Hari\n"
          ]
        }
      ]
    },
    {
      "cell_type": "markdown",
      "source": [
        "Q11. Polymorphism in Python --> same method exhibits diiferent behaviour when called byb different objects belonging to different classes"
      ],
      "metadata": {
        "id": "XOmRoT3DeVvX"
      }
    },
    {
      "cell_type": "code",
      "source": [
        "class College():  # Class1\n",
        "\n",
        "    def display(self):\n",
        "      print(\"College name is ABC\")\n",
        "\n",
        "class Department(): #class 2\n",
        "\n",
        "    def display(self):\n",
        "      print(\"Department name is XYZ\")\n",
        "\n",
        "class student(): #class 3\n",
        "\n",
        "    def display(self):\n",
        "      print(\"Student name is Hari\")\n",
        "\n",
        "college=College()\n",
        "dept=Department()\n",
        "stu=student()\n",
        "\n",
        "college.display()\n",
        "dept.display()\n",
        "stu.display()\n"
      ],
      "metadata": {
        "colab": {
          "base_uri": "https://localhost:8080/"
        },
        "id": "FecHvIM9eUru",
        "outputId": "ab1f2426-e880-4e8a-d3b4-5f7f3a70ce82"
      },
      "execution_count": 48,
      "outputs": [
        {
          "output_type": "stream",
          "name": "stdout",
          "text": [
            "College name is ABC\n",
            "Department name is XYZ\n",
            "Student name is Hari\n"
          ]
        }
      ]
    },
    {
      "cell_type": "markdown",
      "source": [
        "Q12. Encapsulation in Python\n",
        "\n",
        "Internal details/ attributes can be protected/ made private using __(double underscore)"
      ],
      "metadata": {
        "id": "u4oCm6q-euQA"
      }
    },
    {
      "cell_type": "code",
      "source": [
        "class College():  # Parent class\n",
        "    def __init__(self, name,ID, Marks):\n",
        "      self.stu_name=name\n",
        "      self.stu_id=ID\n",
        "      self.__marks=Marks\n",
        "\n",
        "    def display_marks(self):\n",
        "      print(\"Marks is\", self.__marks)\n",
        "\n",
        "\n",
        "student_1=College(\"Hari\", \"05\", \"91%\")\n",
        "\n",
        "print(student_1.stu_name)\n",
        "print(student_1.stu_id)\n",
        "print(student_1.marks) #throws error as marks is protected\n",
        "\n"
      ],
      "metadata": {
        "colab": {
          "base_uri": "https://localhost:8080/",
          "height": 237
        },
        "id": "yN8LOqOcezFw",
        "outputId": "c08ea752-c230-481b-f78b-9f2135bc32d9"
      },
      "execution_count": 53,
      "outputs": [
        {
          "output_type": "stream",
          "name": "stdout",
          "text": [
            "Hari\n",
            "05\n"
          ]
        },
        {
          "output_type": "error",
          "ename": "AttributeError",
          "evalue": "'College' object has no attribute 'marks'",
          "traceback": [
            "\u001b[0;31m---------------------------------------------------------------------------\u001b[0m",
            "\u001b[0;31mAttributeError\u001b[0m                            Traceback (most recent call last)",
            "\u001b[0;32m<ipython-input-53-4353ad8eb59d>\u001b[0m in \u001b[0;36m<cell line: 15>\u001b[0;34m()\u001b[0m\n\u001b[1;32m     13\u001b[0m \u001b[0mprint\u001b[0m\u001b[0;34m(\u001b[0m\u001b[0mstudent_1\u001b[0m\u001b[0;34m.\u001b[0m\u001b[0mstu_name\u001b[0m\u001b[0;34m)\u001b[0m\u001b[0;34m\u001b[0m\u001b[0;34m\u001b[0m\u001b[0m\n\u001b[1;32m     14\u001b[0m \u001b[0mprint\u001b[0m\u001b[0;34m(\u001b[0m\u001b[0mstudent_1\u001b[0m\u001b[0;34m.\u001b[0m\u001b[0mstu_id\u001b[0m\u001b[0;34m)\u001b[0m\u001b[0;34m\u001b[0m\u001b[0;34m\u001b[0m\u001b[0m\n\u001b[0;32m---> 15\u001b[0;31m \u001b[0mprint\u001b[0m\u001b[0;34m(\u001b[0m\u001b[0mstudent_1\u001b[0m\u001b[0;34m.\u001b[0m\u001b[0mmarks\u001b[0m\u001b[0;34m)\u001b[0m \u001b[0;31m#throws error as marks is protected\u001b[0m\u001b[0;34m\u001b[0m\u001b[0;34m\u001b[0m\u001b[0m\n\u001b[0m\u001b[1;32m     16\u001b[0m \u001b[0;34m\u001b[0m\u001b[0m\n",
            "\u001b[0;31mAttributeError\u001b[0m: 'College' object has no attribute 'marks'"
          ]
        }
      ]
    },
    {
      "cell_type": "code",
      "source": [
        "student_1.display_marks() # thsi is how public methods can be used to access private attributes"
      ],
      "metadata": {
        "colab": {
          "base_uri": "https://localhost:8080/"
        },
        "id": "soVqjKOef7EM",
        "outputId": "d07faf85-d80d-4b16-efa0-f848b24b2c03"
      },
      "execution_count": 56,
      "outputs": [
        {
          "output_type": "stream",
          "name": "stdout",
          "text": [
            "Marks is 91%\n"
          ]
        }
      ]
    },
    {
      "cell_type": "markdown",
      "source": [
        "Q14: Operator overloading in Python"
      ],
      "metadata": {
        "id": "bgTFQR2GlRQc"
      }
    },
    {
      "cell_type": "code",
      "source": [
        "def add(a,b):\n",
        "  print(a+b) #addition operator used for adding numbers as well as concatenating strings"
      ],
      "metadata": {
        "id": "YG1aabNnlVZ8"
      },
      "execution_count": 69,
      "outputs": []
    },
    {
      "cell_type": "code",
      "source": [
        "add(5,6)  #numeric addition"
      ],
      "metadata": {
        "colab": {
          "base_uri": "https://localhost:8080/"
        },
        "id": "JGbkmYJLldmB",
        "outputId": "6c099f48-e79f-4a3c-9a07-7e1ebae41f97"
      },
      "execution_count": 70,
      "outputs": [
        {
          "output_type": "stream",
          "name": "stdout",
          "text": [
            "11\n"
          ]
        }
      ]
    },
    {
      "cell_type": "code",
      "source": [
        "add(\"Hi\",\"Welcome\") #string Concatenation"
      ],
      "metadata": {
        "colab": {
          "base_uri": "https://localhost:8080/"
        },
        "id": "KKATtxaQlgIk",
        "outputId": "0ac730f0-8bff-4b3d-84f8-73281b9f12a4"
      },
      "execution_count": 71,
      "outputs": [
        {
          "output_type": "stream",
          "name": "stdout",
          "text": [
            "HiWelcome\n"
          ]
        }
      ]
    }
  ]
}