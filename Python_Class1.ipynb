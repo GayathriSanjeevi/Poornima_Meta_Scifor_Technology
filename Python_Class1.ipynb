{
 "cells": [
  {
   "cell_type": "markdown",
   "id": "c4fc5499",
   "metadata": {},
   "source": [
    "## Python - Class 1  "
   ]
  },
  {
   "cell_type": "code",
   "execution_count": 4,
   "id": "13f7bbf5",
   "metadata": {},
   "outputs": [],
   "source": [
    "list1=[13,2,3,20,5,6,8]"
   ]
  },
  {
   "cell_type": "markdown",
   "id": "ab3caa5e",
   "metadata": {},
   "source": [
    "### 1.Sum of elements in a list"
   ]
  },
  {
   "cell_type": "code",
   "execution_count": 5,
   "id": "96cfcde7",
   "metadata": {},
   "outputs": [
    {
     "name": "stdout",
     "output_type": "stream",
     "text": [
      "57\n"
     ]
    }
   ],
   "source": [
    "sum=0\n",
    "for i in range(len(list1)):\n",
    "    sum=sum+list1[i]\n",
    "print(sum)"
   ]
  },
  {
   "cell_type": "markdown",
   "id": "93226d13",
   "metadata": {},
   "source": [
    "### 2. Largest element in a list"
   ]
  },
  {
   "cell_type": "code",
   "execution_count": 6,
   "id": "f18bacf8",
   "metadata": {},
   "outputs": [
    {
     "name": "stdout",
     "output_type": "stream",
     "text": [
      "20\n"
     ]
    }
   ],
   "source": [
    "largest_no=list1[0]\n",
    "for i in range(len(list1)):\n",
    "    if largest_no<=list1[i]:\n",
    "        largest_no=list1[i]\n",
    "print(largest_no)"
   ]
  },
  {
   "cell_type": "markdown",
   "id": "b68e1f4a",
   "metadata": {},
   "source": [
    "### 3. Remove duplicates in a list"
   ]
  },
  {
   "cell_type": "code",
   "execution_count": 7,
   "id": "acedff39",
   "metadata": {},
   "outputs": [],
   "source": [
    "list_1=[1,2,3,4,1,4,\"Hi\",\"hello\",\"Hi\"]"
   ]
  },
  {
   "cell_type": "code",
   "execution_count": 8,
   "id": "1606d1ac",
   "metadata": {},
   "outputs": [],
   "source": [
    "def duplicates_remove(list1):\n",
    "    set_1=set(list1)\n",
    "    return list(set_1)"
   ]
  },
  {
   "cell_type": "code",
   "execution_count": 9,
   "id": "849880e0",
   "metadata": {},
   "outputs": [
    {
     "name": "stdout",
     "output_type": "stream",
     "text": [
      "[1, 2, 3, 4, 'hello', 'Hi']\n"
     ]
    }
   ],
   "source": [
    "result=duplicates_remove(list_1)\n",
    "print(result)"
   ]
  },
  {
   "cell_type": "markdown",
   "id": "97a73400",
   "metadata": {},
   "source": [
    "### 4. To check if all elements in a list are unique"
   ]
  },
  {
   "cell_type": "code",
   "execution_count": 10,
   "id": "49768d6f",
   "metadata": {},
   "outputs": [],
   "source": [
    "list_2=[\"Hi\",1,2,3,4]"
   ]
  },
  {
   "cell_type": "code",
   "execution_count": 11,
   "id": "4e05525e",
   "metadata": {},
   "outputs": [],
   "source": [
    "def unique_elements(list1):\n",
    "    var_check_1=0\n",
    "    for i in range(len(list1)):\n",
    "        if list1.count(list1[i])!=1:\n",
    "            var_check_1=var_check_1+1\n",
    "    if var_check_1==0:\n",
    "        print(\"All elements are unique\")\n",
    "    else:\n",
    "        print('Elements are repeated')"
   ]
  },
  {
   "cell_type": "code",
   "execution_count": 12,
   "id": "ef86627f",
   "metadata": {},
   "outputs": [
    {
     "name": "stdout",
     "output_type": "stream",
     "text": [
      "Elements are repeated\n"
     ]
    }
   ],
   "source": [
    "unique_elements(list_1)"
   ]
  },
  {
   "cell_type": "code",
   "execution_count": 13,
   "id": "06594712",
   "metadata": {},
   "outputs": [
    {
     "name": "stdout",
     "output_type": "stream",
     "text": [
      "All elements are unique\n"
     ]
    }
   ],
   "source": [
    "unique_elements(list_2)"
   ]
  },
  {
   "cell_type": "markdown",
   "id": "b39d288d",
   "metadata": {},
   "source": [
    "### 5. Reversing a list"
   ]
  },
  {
   "cell_type": "code",
   "execution_count": 16,
   "id": "9ead1db8",
   "metadata": {},
   "outputs": [],
   "source": [
    "def reverse_list(list1):\n",
    "    reversed_list=list1[::-1]\n",
    "    return reversed_list"
   ]
  },
  {
   "cell_type": "code",
   "execution_count": 17,
   "id": "3eb1ebe3",
   "metadata": {},
   "outputs": [
    {
     "name": "stdout",
     "output_type": "stream",
     "text": [
      "['Hi', 'hello', 'Hi', 4, 1, 4, 3, 2, 1]\n"
     ]
    }
   ],
   "source": [
    "Reversed_list=reverse_list(list_1)\n",
    "print(Reversed_list)"
   ]
  },
  {
   "cell_type": "markdown",
   "id": "7b15f456",
   "metadata": {},
   "source": [
    "### 6. Count number of odd and even numbers in a list"
   ]
  },
  {
   "cell_type": "code",
   "execution_count": 18,
   "id": "387d4574",
   "metadata": {},
   "outputs": [
    {
     "data": {
      "text/plain": [
       "[13, 2, 3, 20, 5, 6, 8]"
      ]
     },
     "execution_count": 18,
     "metadata": {},
     "output_type": "execute_result"
    }
   ],
   "source": [
    "list1"
   ]
  },
  {
   "cell_type": "code",
   "execution_count": 19,
   "id": "23e05d9b",
   "metadata": {},
   "outputs": [],
   "source": [
    "def count_odd_even(list1):\n",
    "    count_odd=0\n",
    "    count_even=0\n",
    "    for i in range(len(list1)):\n",
    "        if list1[i]%2==0:\n",
    "            count_even+=1\n",
    "        else:\n",
    "            count_odd+=1\n",
    "    print(\"Number of even numbers in the list\",count_even)\n",
    "    print(\"Number of odd numbers in the list\",count_odd)"
   ]
  },
  {
   "cell_type": "code",
   "execution_count": 20,
   "id": "9609f746",
   "metadata": {},
   "outputs": [
    {
     "name": "stdout",
     "output_type": "stream",
     "text": [
      "Number of even numbers in the list 4\n",
      "Number of odd numbers in the list 3\n"
     ]
    }
   ],
   "source": [
    "count_odd_even(list1)"
   ]
  },
  {
   "cell_type": "markdown",
   "id": "6fc4c0d5",
   "metadata": {},
   "source": [
    "### 7.  Check if a list is a subset of another list"
   ]
  },
  {
   "cell_type": "code",
   "execution_count": 24,
   "id": "3f448683",
   "metadata": {},
   "outputs": [],
   "source": [
    "list1=[1,2,4,\"hi\",6,9,10,11,12]\n",
    "list2=[1,2,3,4,5,\"hi\",6,8,9,10]\n",
    "list3=[1,2,3]\n",
    "list4=[4,5]"
   ]
  },
  {
   "cell_type": "code",
   "execution_count": 25,
   "id": "b0afc520",
   "metadata": {},
   "outputs": [],
   "source": [
    "def subset_list(list1,list2):\n",
    "    list3=[]\n",
    "    for i in range(len(list1)):\n",
    "        for j in range(len(list2)):\n",
    "            if list1[i]==list2[j]:\n",
    "                list3.append(list2[j])\n",
    "    if len(list3)>0:\n",
    "        print('Subset of list present')\n",
    "    else:\n",
    "        print(\"No subset present\")     "
   ]
  },
  {
   "cell_type": "code",
   "execution_count": 26,
   "id": "61cd0acc",
   "metadata": {},
   "outputs": [
    {
     "name": "stdout",
     "output_type": "stream",
     "text": [
      "Subset of list present\n"
     ]
    }
   ],
   "source": [
    "subset_list(list1,list2)"
   ]
  },
  {
   "cell_type": "code",
   "execution_count": 27,
   "id": "86702774",
   "metadata": {},
   "outputs": [
    {
     "name": "stdout",
     "output_type": "stream",
     "text": [
      "No subset present\n"
     ]
    }
   ],
   "source": [
    "subset_list(list3,list4)"
   ]
  },
  {
   "cell_type": "markdown",
   "id": "d9db3c19",
   "metadata": {},
   "source": [
    "### 8. Maximum difference between 2 consecutive elements in a list"
   ]
  },
  {
   "cell_type": "code",
   "execution_count": 28,
   "id": "ef598ce0",
   "metadata": {},
   "outputs": [],
   "source": [
    "list_max_difference=[1,3,4,5,10,17,25,1]"
   ]
  },
  {
   "cell_type": "code",
   "execution_count": 29,
   "id": "f7ccef63",
   "metadata": {},
   "outputs": [],
   "source": [
    "def max_diff(list1):\n",
    "    diff=1\n",
    "    for i in range(1,len(list1)):\n",
    "        diff_1=abs(list1[i]-list1[i-1])\n",
    "        if diff_1>diff:\n",
    "            diff=diff_1\n",
    "    print('Maximum difference', diff)"
   ]
  },
  {
   "cell_type": "code",
   "execution_count": 30,
   "id": "56067b4a",
   "metadata": {},
   "outputs": [
    {
     "name": "stdout",
     "output_type": "stream",
     "text": [
      "Maximum difference 24\n"
     ]
    }
   ],
   "source": [
    "max_diff(list_max_difference)"
   ]
  },
  {
   "cell_type": "code",
   "execution_count": 32,
   "id": "3a332b26",
   "metadata": {},
   "outputs": [
    {
     "name": "stdout",
     "output_type": "stream",
     "text": [
      "Maximum difference 3\n"
     ]
    }
   ],
   "source": [
    "list5=[1,4,5,7,10]\n",
    "max_diff(list5)"
   ]
  },
  {
   "cell_type": "markdown",
   "id": "96a9288f",
   "metadata": {},
   "source": [
    "### 9. Merge mutiple Dictionaries"
   ]
  },
  {
   "cell_type": "code",
   "execution_count": 33,
   "id": "a536c83a",
   "metadata": {},
   "outputs": [],
   "source": [
    "dict1={\"Name\":[\"ABC\",\"DEF\"],\"City\":[\"City1\",\"City2\"],\"DOB\":[2005, 2004]}\n",
    "dict2={'College':\"DEF\",\"Year\":2024}"
   ]
  },
  {
   "cell_type": "code",
   "execution_count": 34,
   "id": "a2a7a907",
   "metadata": {},
   "outputs": [],
   "source": [
    "dict1.update(dict2)"
   ]
  },
  {
   "cell_type": "code",
   "execution_count": 35,
   "id": "d7970a01",
   "metadata": {},
   "outputs": [
    {
     "data": {
      "text/plain": [
       "{'Name': ['ABC', 'DEF'],\n",
       " 'City': ['City1', 'City2'],\n",
       " 'DOB': [2005, 2004],\n",
       " 'College': 'DEF',\n",
       " 'Year': 2024}"
      ]
     },
     "execution_count": 35,
     "metadata": {},
     "output_type": "execute_result"
    }
   ],
   "source": [
    "dict1"
   ]
  },
  {
   "cell_type": "markdown",
   "id": "08e49899",
   "metadata": {},
   "source": [
    "### 10. Find words frequency in  a sentence"
   ]
  },
  {
   "cell_type": "code",
   "execution_count": 36,
   "id": "f4d21635",
   "metadata": {},
   "outputs": [],
   "source": [
    "sentence_1='It is raining heavily . Since it is raining , take the umbrella'\n",
    "sentence_2=\"Python is a programming language that lets you work quickly and integrate systems more effectively. \""
   ]
  },
  {
   "cell_type": "code",
   "execution_count": 37,
   "id": "94335d5e",
   "metadata": {},
   "outputs": [],
   "source": [
    "def word_frequency(sentence):\n",
    "    split_sent=sentence.split()\n",
    "    unique_words=list(set(split_sent))\n",
    "    for i in range(len(unique_words)):\n",
    "        print({unique_words[i]: split_sent.count(unique_words[i])})  "
   ]
  },
  {
   "cell_type": "code",
   "execution_count": 38,
   "id": "16492793",
   "metadata": {},
   "outputs": [
    {
     "name": "stdout",
     "output_type": "stream",
     "text": [
      "{'is': 1}\n",
      "{'and': 1}\n",
      "{'that': 1}\n",
      "{'programming': 1}\n",
      "{'lets': 1}\n",
      "{'more': 1}\n",
      "{'work': 1}\n",
      "{'quickly': 1}\n",
      "{'Python': 1}\n",
      "{'a': 1}\n",
      "{'you': 1}\n",
      "{'effectively.': 1}\n",
      "{'systems': 1}\n",
      "{'language': 1}\n",
      "{'integrate': 1}\n"
     ]
    }
   ],
   "source": [
    "word_frequency(sentence_2)"
   ]
  },
  {
   "cell_type": "code",
   "execution_count": 39,
   "id": "ae91e9d6",
   "metadata": {},
   "outputs": [
    {
     "name": "stdout",
     "output_type": "stream",
     "text": [
      "{'is': 2}\n",
      "{'it': 1}\n",
      "{'the': 1}\n",
      "{'It': 1}\n",
      "{'umbrella': 1}\n",
      "{'.': 1}\n",
      "{'raining': 2}\n",
      "{'Since': 1}\n",
      "{'take': 1}\n",
      "{',': 1}\n",
      "{'heavily': 1}\n"
     ]
    }
   ],
   "source": [
    "word_frequency(sentence_1)"
   ]
  }
 ],
 "metadata": {
  "kernelspec": {
   "display_name": "Python 3 (ipykernel)",
   "language": "python",
   "name": "python3"
  },
  "language_info": {
   "codemirror_mode": {
    "name": "ipython",
    "version": 3
   },
   "file_extension": ".py",
   "mimetype": "text/x-python",
   "name": "python",
   "nbconvert_exporter": "python",
   "pygments_lexer": "ipython3",
   "version": "3.11.4"
  }
 },
 "nbformat": 4,
 "nbformat_minor": 5
}
